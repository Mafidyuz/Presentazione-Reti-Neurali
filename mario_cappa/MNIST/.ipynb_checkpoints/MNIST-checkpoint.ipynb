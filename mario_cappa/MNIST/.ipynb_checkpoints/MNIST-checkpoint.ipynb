{
 "cells": [
  {
   "cell_type": "code",
   "execution_count": 1,
   "metadata": {},
   "outputs": [],
   "source": [
    "from matplotlib import pyplot as plt\n",
    "from mnist import MNIST #pip install python-mnist\n",
    "import random as r\n",
    "import numpy as np\n",
    "import pandas as pd\n",
    "from sklearn.neural_network import MLPClassifier\n",
    "from sklearn.model_selection import train_test_split"
   ]
  },
  {
   "cell_type": "code",
   "execution_count": 2,
   "metadata": {},
   "outputs": [
    {
     "name": "stdout",
     "output_type": "stream",
     "text": [
      "Immagini training: 60000, immagini test: 10000\n"
     ]
    }
   ],
   "source": [
    "mndata = MNIST('data')\n",
    "images, labels = mndata.load_training()\n",
    "\n",
    "test_images, test_labels = mndata.load_testing()\n",
    "\n",
    "print(\"Immagini training: {}, immagini test: {}\".format(len(images), len(test_images)))"
   ]
  },
  {
   "cell_type": "code",
   "execution_count": 9,
   "metadata": {},
   "outputs": [
    {
     "data": {
      "image/png": "[encoded data removed]",
      "text/plain": [
       "<Figure size 432x288 with 1 Axes>"
      ]
     },
     "metadata": {},
     "output_type": "display_data"
    }
   ],
   "source": [
    "n = r.randint(0,len(images))\n",
    "image = [images[n][x:x+28] for x in range(0, len(images[n]),28)]\n",
    "plt.imshow(image)\n",
    "plt.show()"
   ]
  },
  {
   "cell_type": "code",
   "execution_count": 4,
   "metadata": {},
   "outputs": [
    {
     "name": "stdout",
     "output_type": "stream",
     "text": [
      "Accuracy: 0.9161 Sono stati riconosciuti 9161 numeri su 10000\n"
     ]
    }
   ],
   "source": [
    "nn=MLPClassifier(activation='tanh', solver='adam', hidden_layer_sizes=(54,3), max_iter=10000, learning_rate_init=0.0006)\n",
    "nn.fit(images,labels)\n",
    "\n",
    "pred = nn.predict(test_images)\n",
    "\n",
    "giusti = list(pred == test_labels).count(True)\n",
    "print(\"Accuracy: {} Sono stati riconosciuti {} numeri su {}\".format(giusti / len(pred),giusti,len(pred)))"
   ]
  }
 ],
 "metadata": {
  "kernelspec": {
   "display_name": "Python 3",
   "language": "python",
   "name": "python3"
  },
  "language_info": {
   "codemirror_mode": {
    "name": "ipython",
    "version": 3
   },
   "file_extension": ".py",
   "mimetype": "text/x-python",
   "name": "python",
   "nbconvert_exporter": "python",
   "pygments_lexer": "ipython3",
   "version": "3.6.5"
  }
 },
 "nbformat": 4,
 "nbformat_minor": 2
}
